{
  "nbformat": 4,
  "nbformat_minor": 0,
  "metadata": {
    "colab": {
      "provenance": []
    },
    "kernelspec": {
      "name": "python3",
      "display_name": "Python 3"
    },
    "accelerator": "GPU"
  },
  "cells": [
    {
      "cell_type": "code",
      "metadata": {
        "id": "0m2JWFliFfKT"
      },
      "source": [
        "from __future__ import print_function\n",
        "import torch\n",
        "import torch.nn as nn\n",
        "import torch.nn.functional as F\n",
        "import torch.optim as optim\n",
        "from torchvision import datasets, transforms"
      ],
      "execution_count": 1,
      "outputs": []
    },
    {
      "cell_type": "code",
      "metadata": {
        "id": "h_Cx9q2QFgM7"
      },
      "source": [
        "class Net(nn.Module):\n",
        "    def __init__(self):\n",
        "        super(Net, self).__init__()\n",
        "        self.dropout = nn.Dropout(0.1)\n",
        "        self.conv1 = nn.Conv2d(1, 8, 3, padding=1) #input -? OUtput? RF\n",
        "        self.conv1_bn = nn.BatchNorm2d(8)\n",
        "        self.conv2 = nn.Conv2d(8, 8, 3, padding=1)\n",
        "        self.conv2_bn = nn.BatchNorm2d(8)\n",
        "        self.conv3 = nn.Conv2d(8, 8, 3, padding=1)\n",
        "        self.conv3_bn = nn.BatchNorm2d(8)\n",
        "        self.pool1 = nn.MaxPool2d(2, 2)\n",
        "        self.conv4 = nn.Conv2d(8, 16, 3, padding=1)\n",
        "        self.conv4_bn = nn.BatchNorm2d(16)\n",
        "        self.conv5 = nn.Conv2d(16, 16, 3)\n",
        "        self.conv5_bn = nn.BatchNorm2d(16)\n",
        "        self.pool2 = nn.MaxPool2d(2, 2)\n",
        "        self.conv6 = nn.Conv2d(16, 32, 3)\n",
        "        self.conv6_bn = nn.BatchNorm2d(32)\n",
        "        self.conv7 = nn.Conv2d(32, 10, 3)\n",
        "\n",
        "    def forward(self, x):\n",
        "        x = F.relu(self.conv1_bn(self.conv1(x)))\n",
        "        x = self.dropout(x)\n",
        "        x = F.relu(self.conv2_bn(self.conv2(x)))\n",
        "        x = self.dropout(x)\n",
        "        x = F.relu(self.conv3_bn(self.conv3(x)))\n",
        "        x = self.pool1(x)\n",
        "        x = self.dropout(x)\n",
        "        x = F.relu(self.conv4_bn(self.conv4(x)))\n",
        "        x = self.dropout(x)\n",
        "        x = F.relu(self.conv5_bn(self.conv5(x)))\n",
        "        x = self.pool2(x)\n",
        "        x = self.dropout(x)\n",
        "        x = F.relu(self.conv6_bn(self.conv6(x)))\n",
        "        x = self.dropout(x)\n",
        "        x = self.conv7(x)\n",
        "        x = x.mean([2, 3])\n",
        "        x = x.view(-1, 10)\n",
        "        return F.log_softmax(x)"
      ],
      "execution_count": 2,
      "outputs": []
    },
    {
      "cell_type": "code",
      "metadata": {
        "id": "xdydjYTZFyi3",
        "colab": {
          "base_uri": "https://localhost:8080/"
        },
        "outputId": "fcae62e9-a8d4-446a-f08d-4896e48b5989"
      },
      "source": [
        "!pip install torchsummary\n",
        "from torchsummary import summary\n",
        "use_cuda = torch.cuda.is_available()\n",
        "device = torch.device(\"cuda\" if use_cuda else \"cpu\")\n",
        "model = Net().to(device)\n",
        "summary(model, input_size=(1, 28, 28))"
      ],
      "execution_count": 3,
      "outputs": [
        {
          "output_type": "stream",
          "name": "stdout",
          "text": [
            "Requirement already satisfied: torchsummary in /usr/local/lib/python3.10/dist-packages (1.5.1)\n",
            "----------------------------------------------------------------\n",
            "        Layer (type)               Output Shape         Param #\n",
            "================================================================\n",
            "            Conv2d-1            [-1, 8, 28, 28]              80\n",
            "       BatchNorm2d-2            [-1, 8, 28, 28]              16\n",
            "           Dropout-3            [-1, 8, 28, 28]               0\n",
            "            Conv2d-4            [-1, 8, 28, 28]             584\n",
            "       BatchNorm2d-5            [-1, 8, 28, 28]              16\n",
            "           Dropout-6            [-1, 8, 28, 28]               0\n",
            "            Conv2d-7            [-1, 8, 28, 28]             584\n",
            "       BatchNorm2d-8            [-1, 8, 28, 28]              16\n",
            "         MaxPool2d-9            [-1, 8, 14, 14]               0\n",
            "          Dropout-10            [-1, 8, 14, 14]               0\n",
            "           Conv2d-11           [-1, 16, 14, 14]           1,168\n",
            "      BatchNorm2d-12           [-1, 16, 14, 14]              32\n",
            "          Dropout-13           [-1, 16, 14, 14]               0\n",
            "           Conv2d-14           [-1, 16, 12, 12]           2,320\n",
            "      BatchNorm2d-15           [-1, 16, 12, 12]              32\n",
            "        MaxPool2d-16             [-1, 16, 6, 6]               0\n",
            "          Dropout-17             [-1, 16, 6, 6]               0\n",
            "           Conv2d-18             [-1, 32, 4, 4]           4,640\n",
            "      BatchNorm2d-19             [-1, 32, 4, 4]              64\n",
            "          Dropout-20             [-1, 32, 4, 4]               0\n",
            "           Conv2d-21             [-1, 10, 2, 2]           2,890\n",
            "================================================================\n",
            "Total params: 12,442\n",
            "Trainable params: 12,442\n",
            "Non-trainable params: 0\n",
            "----------------------------------------------------------------\n",
            "Input size (MB): 0.00\n",
            "Forward/backward pass size (MB): 0.53\n",
            "Params size (MB): 0.05\n",
            "Estimated Total Size (MB): 0.58\n",
            "----------------------------------------------------------------\n"
          ]
        },
        {
          "output_type": "stream",
          "name": "stderr",
          "text": [
            "<ipython-input-2-42104d8a943a>:39: UserWarning: Implicit dimension choice for log_softmax has been deprecated. Change the call to include dim=X as an argument.\n",
            "  return F.log_softmax(x)\n"
          ]
        }
      ]
    },
    {
      "cell_type": "code",
      "metadata": {
        "id": "DqTWLaM5GHgH"
      },
      "source": [
        "torch.manual_seed(1)\n",
        "batch_size = 128\n",
        "\n",
        "kwargs = {'num_workers': 1, 'pin_memory': True} if use_cuda else {}\n",
        "train_loader = torch.utils.data.DataLoader(\n",
        "    datasets.MNIST('../data', train=True, download=True,\n",
        "                    transform=transforms.Compose([\n",
        "                        transforms.ToTensor(),\n",
        "                        transforms.Normalize((0.1307,), (0.3081,))\n",
        "                    ])),\n",
        "    batch_size=batch_size, shuffle=True, **kwargs)\n",
        "test_loader = torch.utils.data.DataLoader(\n",
        "    datasets.MNIST('../data', train=False, transform=transforms.Compose([\n",
        "                        transforms.ToTensor(),\n",
        "                        transforms.Normalize((0.1307,), (0.3081,))\n",
        "                    ])),\n",
        "    batch_size=batch_size, shuffle=True, **kwargs)\n"
      ],
      "execution_count": 4,
      "outputs": []
    },
    {
      "cell_type": "code",
      "metadata": {
        "id": "8fDefDhaFlwH"
      },
      "source": [
        "from tqdm import tqdm\n",
        "def train(model, device, train_loader, optimizer, epoch):\n",
        "    model.train()\n",
        "    pbar = tqdm(train_loader)\n",
        "    for batch_idx, (data, target) in enumerate(pbar):\n",
        "        data, target = data.to(device), target.to(device)\n",
        "        optimizer.zero_grad()\n",
        "        output = model(data)\n",
        "        loss = F.nll_loss(output, target)\n",
        "        loss.backward()\n",
        "        optimizer.step()\n",
        "        pbar.set_description(desc= f'epoch={epoch} loss={loss.item()} batch_id={batch_idx}')\n",
        "\n",
        "\n",
        "def test(model, device, test_loader):\n",
        "    model.eval()\n",
        "    test_loss = 0\n",
        "    correct = 0\n",
        "    with torch.no_grad():\n",
        "        for data, target in test_loader:\n",
        "            data, target = data.to(device), target.to(device)\n",
        "            output = model(data)\n",
        "            test_loss += F.nll_loss(output, target, reduction='sum').item()  # sum up batch loss\n",
        "            pred = output.argmax(dim=1, keepdim=True)  # get the index of the max log-probability\n",
        "            correct += pred.eq(target.view_as(pred)).sum().item()\n",
        "\n",
        "    test_loss /= len(test_loader.dataset)\n",
        "\n",
        "    print('\\nTest set: Average loss: {:.4f}, Accuracy: {}/{} ({:.2f}%)\\n'.format(\n",
        "        test_loss, correct, len(test_loader.dataset),\n",
        "        100. * correct / len(test_loader.dataset)))"
      ],
      "execution_count": 5,
      "outputs": []
    },
    {
      "cell_type": "code",
      "metadata": {
        "id": "MMWbLWO6FuHb",
        "colab": {
          "base_uri": "https://localhost:8080/"
        },
        "outputId": "804e2ed7-da55-475b-a10c-51be2465a111"
      },
      "source": [
        "\n",
        "model = Net().to(device)\n",
        "optimizer = optim.SGD(model.parameters(), lr=0.01, momentum=0.9)\n",
        "scheduler = optim.lr_scheduler.StepLR(optimizer, step_size=10, gamma=0.1, verbose=True)\n",
        "\n",
        "for epoch in range(1, 13):\n",
        "    train(model, device, train_loader, optimizer, epoch)\n",
        "    test(model, device, test_loader)\n",
        "    scheduler.step()"
      ],
      "execution_count": 6,
      "outputs": [
        {
          "output_type": "stream",
          "name": "stdout",
          "text": [
            "Adjusting learning rate of group 0 to 1.0000e-02.\n"
          ]
        },
        {
          "output_type": "stream",
          "name": "stderr",
          "text": [
            "  0%|          | 0/469 [00:00<?, ?it/s]<ipython-input-2-42104d8a943a>:39: UserWarning: Implicit dimension choice for log_softmax has been deprecated. Change the call to include dim=X as an argument.\n",
            "  return F.log_softmax(x)\n",
            "epoch=1 loss=0.13055013120174408 batch_id=468: 100%|██████████| 469/469 [01:15<00:00,  6.22it/s]\n"
          ]
        },
        {
          "output_type": "stream",
          "name": "stdout",
          "text": [
            "\n",
            "Test set: Average loss: 0.1237, Accuracy: 9639/10000 (96.39%)\n",
            "\n",
            "Adjusting learning rate of group 0 to 1.0000e-02.\n"
          ]
        },
        {
          "output_type": "stream",
          "name": "stderr",
          "text": [
            "epoch=2 loss=0.07950275391340256 batch_id=468: 100%|██████████| 469/469 [01:09<00:00,  6.71it/s]\n"
          ]
        },
        {
          "output_type": "stream",
          "name": "stdout",
          "text": [
            "\n",
            "Test set: Average loss: 0.0492, Accuracy: 9849/10000 (98.49%)\n",
            "\n",
            "Adjusting learning rate of group 0 to 1.0000e-02.\n"
          ]
        },
        {
          "output_type": "stream",
          "name": "stderr",
          "text": [
            "epoch=3 loss=0.08174591511487961 batch_id=468: 100%|██████████| 469/469 [01:08<00:00,  6.85it/s]\n"
          ]
        },
        {
          "output_type": "stream",
          "name": "stdout",
          "text": [
            "\n",
            "Test set: Average loss: 0.0435, Accuracy: 9863/10000 (98.63%)\n",
            "\n",
            "Adjusting learning rate of group 0 to 1.0000e-02.\n"
          ]
        },
        {
          "output_type": "stream",
          "name": "stderr",
          "text": [
            "epoch=4 loss=0.024415865540504456 batch_id=468: 100%|██████████| 469/469 [01:08<00:00,  6.88it/s]\n"
          ]
        },
        {
          "output_type": "stream",
          "name": "stdout",
          "text": [
            "\n",
            "Test set: Average loss: 0.0345, Accuracy: 9891/10000 (98.91%)\n",
            "\n",
            "Adjusting learning rate of group 0 to 1.0000e-02.\n"
          ]
        },
        {
          "output_type": "stream",
          "name": "stderr",
          "text": [
            "epoch=5 loss=0.057230088859796524 batch_id=468: 100%|██████████| 469/469 [01:10<00:00,  6.67it/s]\n"
          ]
        },
        {
          "output_type": "stream",
          "name": "stdout",
          "text": [
            "\n",
            "Test set: Average loss: 0.0355, Accuracy: 9888/10000 (98.88%)\n",
            "\n",
            "Adjusting learning rate of group 0 to 1.0000e-02.\n"
          ]
        },
        {
          "output_type": "stream",
          "name": "stderr",
          "text": [
            "epoch=6 loss=0.06492535769939423 batch_id=468: 100%|██████████| 469/469 [01:10<00:00,  6.64it/s]\n"
          ]
        },
        {
          "output_type": "stream",
          "name": "stdout",
          "text": [
            "\n",
            "Test set: Average loss: 0.0299, Accuracy: 9908/10000 (99.08%)\n",
            "\n",
            "Adjusting learning rate of group 0 to 1.0000e-02.\n"
          ]
        },
        {
          "output_type": "stream",
          "name": "stderr",
          "text": [
            "epoch=7 loss=0.05206746235489845 batch_id=468: 100%|██████████| 469/469 [01:10<00:00,  6.66it/s]\n"
          ]
        },
        {
          "output_type": "stream",
          "name": "stdout",
          "text": [
            "\n",
            "Test set: Average loss: 0.0298, Accuracy: 9911/10000 (99.11%)\n",
            "\n",
            "Adjusting learning rate of group 0 to 1.0000e-02.\n"
          ]
        },
        {
          "output_type": "stream",
          "name": "stderr",
          "text": [
            "epoch=8 loss=0.010062999092042446 batch_id=468: 100%|██████████| 469/469 [01:08<00:00,  6.87it/s]\n"
          ]
        },
        {
          "output_type": "stream",
          "name": "stdout",
          "text": [
            "\n",
            "Test set: Average loss: 0.0282, Accuracy: 9912/10000 (99.12%)\n",
            "\n",
            "Adjusting learning rate of group 0 to 1.0000e-02.\n"
          ]
        },
        {
          "output_type": "stream",
          "name": "stderr",
          "text": [
            "epoch=9 loss=0.01832321658730507 batch_id=468: 100%|██████████| 469/469 [01:10<00:00,  6.66it/s]\n"
          ]
        },
        {
          "output_type": "stream",
          "name": "stdout",
          "text": [
            "\n",
            "Test set: Average loss: 0.0235, Accuracy: 9930/10000 (99.30%)\n",
            "\n",
            "Adjusting learning rate of group 0 to 1.0000e-02.\n"
          ]
        },
        {
          "output_type": "stream",
          "name": "stderr",
          "text": [
            "epoch=10 loss=0.037380460649728775 batch_id=468: 100%|██████████| 469/469 [01:09<00:00,  6.76it/s]\n"
          ]
        },
        {
          "output_type": "stream",
          "name": "stdout",
          "text": [
            "\n",
            "Test set: Average loss: 0.0233, Accuracy: 9926/10000 (99.26%)\n",
            "\n",
            "Adjusting learning rate of group 0 to 1.0000e-03.\n"
          ]
        },
        {
          "output_type": "stream",
          "name": "stderr",
          "text": [
            "epoch=11 loss=0.06139003112912178 batch_id=468: 100%|██████████| 469/469 [01:09<00:00,  6.71it/s]\n"
          ]
        },
        {
          "output_type": "stream",
          "name": "stdout",
          "text": [
            "\n",
            "Test set: Average loss: 0.0211, Accuracy: 9936/10000 (99.36%)\n",
            "\n",
            "Adjusting learning rate of group 0 to 1.0000e-03.\n"
          ]
        },
        {
          "output_type": "stream",
          "name": "stderr",
          "text": [
            "epoch=12 loss=0.006513600703328848 batch_id=468: 100%|██████████| 469/469 [01:09<00:00,  6.76it/s]\n"
          ]
        },
        {
          "output_type": "stream",
          "name": "stdout",
          "text": [
            "\n",
            "Test set: Average loss: 0.0208, Accuracy: 9941/10000 (99.41%)\n",
            "\n",
            "Adjusting learning rate of group 0 to 1.0000e-03.\n"
          ]
        }
      ]
    }
  ]
}