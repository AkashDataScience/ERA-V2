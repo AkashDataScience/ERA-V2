{
  "cells": [
    {
      "cell_type": "code",
      "execution_count": null,
      "metadata": {
        "id": "veRkXQqZMuLd"
      },
      "outputs": [],
      "source": [
        "!pip install transformers diffusers ftfy accelerate"
      ]
    },
    {
      "cell_type": "code",
      "execution_count": null,
      "metadata": {
        "id": "Q8SdMtiXEx9G"
      },
      "outputs": [],
      "source": [
        "import os\n",
        "import torch\n",
        "from diffusers import StableDiffusionXLPipeline, UNet2DConditionModel, EulerDiscreteScheduler\n",
        "from huggingface_hub import hf_hub_download\n",
        "from safetensors.torch import load_file"
      ]
    },
    {
      "cell_type": "code",
      "execution_count": null,
      "metadata": {
        "id": "tVxYMP8-M6N0"
      },
      "outputs": [],
      "source": [
        "torch_device = \"cuda\" if torch.cuda.is_available() else \"mps\" if torch.backends.mps.is_available() else \"cpu\"\n",
        "if \"mps\" == torch_device: os.environ['PYTORCH_ENABLE_MPS_FALLBACK'] = \"1\""
      ]
    },
    {
      "cell_type": "code",
      "execution_count": null,
      "metadata": {
        "id": "Z0a0ayCGMmuk"
      },
      "outputs": [],
      "source": [
        "base = \"stabilityai/stable-diffusion-xl-base-1.0\"\n",
        "repo = \"ByteDance/SDXL-Lightning\"\n",
        "ckpt = \"sdxl_lightning_8step_unet.safetensors\" # Use the correct ckpt for your step setting!\n",
        "\n",
        "# Load model.\n",
        "unet = UNet2DConditionModel.from_config(base, subfolder=\"unet\").to(torch_device, torch.float16)\n",
        "unet.load_state_dict(load_file(hf_hub_download(repo, ckpt), device=torch_device))\n",
        "pipe = StableDiffusionXLPipeline.from_pretrained(base, unet=unet, torch_dtype=torch.float16, variant=\"fp16\").to(torch_device)\n",
        "\n",
        "# Ensure sampler uses \"trailing\" timesteps.\n",
        "pipe.scheduler = EulerDiscreteScheduler.from_config(pipe.scheduler.config, timestep_spacing=\"trailing\")"
      ]
    },
    {
      "cell_type": "code",
      "source": [
        "pipe.load_textual_inversion('concept-art.bin', '<concept-art>')\n",
        "pipe.load_textual_inversion('doose-s-realistic-art-style.bin', '<doose-realistic>')\n",
        "pipe.load_textual_inversion('line-art.bin', '<line_art>')\n",
        "pipe.load_textual_inversion('rickyart.bin', '<RickyArt>')\n",
        "pipe.load_textual_inversion('tony-diterlizzi-s-planescape-art.bin', '<tony-diterlizzi-planescape>')"
      ],
      "metadata": {
        "id": "PJszEPN0T_3L"
      },
      "execution_count": null,
      "outputs": []
    },
    {
      "cell_type": "code",
      "source": [
        "# Ensure using the same inference steps as the loaded model and CFG set to 0.\n",
        "pipe(\"A mouse in the style of <concept-art>\", num_inference_steps=8, guidance_scale=0).images[0]"
      ],
      "metadata": {
        "id": "ucdCdmirUEtN"
      },
      "execution_count": null,
      "outputs": []
    },
    {
      "cell_type": "code",
      "source": [
        "def guide_loss(diffusion_pipeline, step, timestep, kwarg):\n",
        "    print(diffusion_pipeline.dtype)"
      ],
      "metadata": {
        "id": "QUxPVRo5hYmi"
      },
      "execution_count": null,
      "outputs": []
    },
    {
      "cell_type": "code",
      "source": [
        "# Ensure using the same inference steps as the loaded model and CFG set to 0.\n",
        "pipe(\"Sunset on mountains in the style of <tony-diterlizzi-planescape>\", num_inference_steps=8,\n",
        "     guidance_scale=0, callback_on_step_end = guide_loss).images[0]"
      ],
      "metadata": {
        "id": "sCb_69pQjmCE"
      },
      "execution_count": null,
      "outputs": []
    }
  ],
  "metadata": {
    "accelerator": "GPU",
    "colab": {
      "gpuType": "T4",
      "provenance": []
    },
    "kernelspec": {
      "display_name": "Python 3 (ipykernel)",
      "language": "python",
      "name": "python3"
    },
    "language_info": {
      "codemirror_mode": {
        "name": "ipython",
        "version": 3
      },
      "file_extension": ".py",
      "mimetype": "text/x-python",
      "name": "python",
      "nbconvert_exporter": "python",
      "pygments_lexer": "ipython3",
      "version": "3.10.13"
    }
  },
  "nbformat": 4,
  "nbformat_minor": 0
}