{
  "cells": [
    {
      "cell_type": "code",
      "execution_count": null,
      "metadata": {
        "id": "C_YSfsRILGPG",
        "tags": []
      },
      "outputs": [],
      "source": [
        "!git clone https://github.com/AkashDataScience/nanogpt.git"
      ]
    },
    {
      "cell_type": "code",
      "execution_count": 1,
      "metadata": {
        "id": "CBVAhJBULs5R",
        "tags": [],
        "colab": {
          "base_uri": "https://localhost:8080/"
        },
        "outputId": "dd96bb2d-7bf9-48d5-dbb3-c01e1d7d3af8"
      },
      "outputs": [
        {
          "output_type": "stream",
          "name": "stdout",
          "text": [
            "/content/nanogpt\n"
          ]
        }
      ],
      "source": [
        "%cd nanogpt"
      ]
    },
    {
      "cell_type": "code",
      "execution_count": 2,
      "metadata": {
        "id": "75koL8tzLxKS",
        "tags": [],
        "colab": {
          "base_uri": "https://localhost:8080/"
        },
        "outputId": "b707c3a1-4670-4383-8b38-7e34f6d86f7b"
      },
      "outputs": [
        {
          "output_type": "stream",
          "name": "stdout",
          "text": [
            "Requirement already satisfied: asttokens==2.4.1 in /usr/local/lib/python3.10/dist-packages (from -r requirements.txt (line 1)) (2.4.1)\n",
            "Requirement already satisfied: colorama==0.4.6 in /usr/local/lib/python3.10/dist-packages (from -r requirements.txt (line 2)) (0.4.6)\n",
            "Requirement already satisfied: comm==0.2.2 in /usr/local/lib/python3.10/dist-packages (from -r requirements.txt (line 3)) (0.2.2)\n",
            "Requirement already satisfied: datasets==2.19.1 in /usr/local/lib/python3.10/dist-packages (from -r requirements.txt (line 4)) (2.19.1)\n",
            "Requirement already satisfied: dill==0.3.8 in /usr/local/lib/python3.10/dist-packages (from -r requirements.txt (line 5)) (0.3.8)\n",
            "Requirement already satisfied: executing==2.0.1 in /usr/local/lib/python3.10/dist-packages (from -r requirements.txt (line 6)) (2.0.1)\n",
            "Requirement already satisfied: jedi==0.19.1 in /usr/local/lib/python3.10/dist-packages (from -r requirements.txt (line 7)) (0.19.1)\n",
            "Requirement already satisfied: lightning-utilities==0.11.2 in /usr/local/lib/python3.10/dist-packages (from -r requirements.txt (line 8)) (0.11.2)\n",
            "Requirement already satisfied: lion-pytorch==0.1.4 in /usr/local/lib/python3.10/dist-packages (from -r requirements.txt (line 9)) (0.1.4)\n",
            "Requirement already satisfied: multiprocess==0.70.16 in /usr/local/lib/python3.10/dist-packages (from -r requirements.txt (line 10)) (0.70.16)\n",
            "Requirement already satisfied: pure-eval==0.2.2 in /usr/local/lib/python3.10/dist-packages (from -r requirements.txt (line 11)) (0.2.2)\n",
            "Requirement already satisfied: stack-data==0.6.3 in /usr/local/lib/python3.10/dist-packages (from -r requirements.txt (line 12)) (0.6.3)\n",
            "Requirement already satisfied: torch==2.3.0+cu121 in /usr/local/lib/python3.10/dist-packages (from -r requirements.txt (line 13)) (2.3.0+cu121)\n",
            "Requirement already satisfied: torchaudio==2.3.0+cu121 in /usr/local/lib/python3.10/dist-packages (from -r requirements.txt (line 14)) (2.3.0+cu121)\n",
            "Requirement already satisfied: torchmetrics==1.4.0.post0 in /usr/local/lib/python3.10/dist-packages (from -r requirements.txt (line 15)) (1.4.0.post0)\n",
            "Requirement already satisfied: torchtext==0.18.0 in /usr/local/lib/python3.10/dist-packages (from -r requirements.txt (line 16)) (0.18.0)\n",
            "Requirement already satisfied: torchvision==0.18.0+cu121 in /usr/local/lib/python3.10/dist-packages (from -r requirements.txt (line 17)) (0.18.0+cu121)\n",
            "Requirement already satisfied: urllib3==2.2.1 in /usr/local/lib/python3.10/dist-packages (from -r requirements.txt (line 18)) (2.2.1)\n",
            "Requirement already satisfied: wcwidth==0.2.13 in /usr/local/lib/python3.10/dist-packages (from -r requirements.txt (line 19)) (0.2.13)\n",
            "Requirement already satisfied: Werkzeug==3.0.3 in /usr/local/lib/python3.10/dist-packages (from -r requirements.txt (line 20)) (3.0.3)\n",
            "Requirement already satisfied: xxhash==3.4.1 in /usr/local/lib/python3.10/dist-packages (from -r requirements.txt (line 21)) (3.4.1)\n",
            "Requirement already satisfied: yarl==1.9.4 in /usr/local/lib/python3.10/dist-packages (from -r requirements.txt (line 22)) (1.9.4)\n",
            "Requirement already satisfied: six>=1.12.0 in /usr/local/lib/python3.10/dist-packages (from asttokens==2.4.1->-r requirements.txt (line 1)) (1.16.0)\n",
            "Requirement already satisfied: traitlets>=4 in /usr/local/lib/python3.10/dist-packages (from comm==0.2.2->-r requirements.txt (line 3)) (5.7.1)\n",
            "Requirement already satisfied: filelock in /usr/local/lib/python3.10/dist-packages (from datasets==2.19.1->-r requirements.txt (line 4)) (3.14.0)\n",
            "Requirement already satisfied: numpy>=1.17 in /usr/local/lib/python3.10/dist-packages (from datasets==2.19.1->-r requirements.txt (line 4)) (1.25.2)\n",
            "Requirement already satisfied: pyarrow>=12.0.0 in /usr/local/lib/python3.10/dist-packages (from datasets==2.19.1->-r requirements.txt (line 4)) (14.0.2)\n",
            "Requirement already satisfied: pyarrow-hotfix in /usr/local/lib/python3.10/dist-packages (from datasets==2.19.1->-r requirements.txt (line 4)) (0.6)\n",
            "Requirement already satisfied: pandas in /usr/local/lib/python3.10/dist-packages (from datasets==2.19.1->-r requirements.txt (line 4)) (2.0.3)\n",
            "Requirement already satisfied: requests>=2.19.0 in /usr/local/lib/python3.10/dist-packages (from datasets==2.19.1->-r requirements.txt (line 4)) (2.31.0)\n",
            "Requirement already satisfied: tqdm>=4.62.1 in /usr/local/lib/python3.10/dist-packages (from datasets==2.19.1->-r requirements.txt (line 4)) (4.66.4)\n",
            "Requirement already satisfied: fsspec[http]<=2024.3.1,>=2023.1.0 in /usr/local/lib/python3.10/dist-packages (from datasets==2.19.1->-r requirements.txt (line 4)) (2023.6.0)\n",
            "Requirement already satisfied: aiohttp in /usr/local/lib/python3.10/dist-packages (from datasets==2.19.1->-r requirements.txt (line 4)) (3.9.5)\n",
            "Requirement already satisfied: huggingface-hub>=0.21.2 in /usr/local/lib/python3.10/dist-packages (from datasets==2.19.1->-r requirements.txt (line 4)) (0.23.3)\n",
            "Requirement already satisfied: packaging in /usr/local/lib/python3.10/dist-packages (from datasets==2.19.1->-r requirements.txt (line 4)) (24.1)\n",
            "Requirement already satisfied: pyyaml>=5.1 in /usr/local/lib/python3.10/dist-packages (from datasets==2.19.1->-r requirements.txt (line 4)) (6.0.1)\n",
            "Requirement already satisfied: parso<0.9.0,>=0.8.3 in /usr/local/lib/python3.10/dist-packages (from jedi==0.19.1->-r requirements.txt (line 7)) (0.8.4)\n",
            "Requirement already satisfied: setuptools in /usr/local/lib/python3.10/dist-packages (from lightning-utilities==0.11.2->-r requirements.txt (line 8)) (67.7.2)\n",
            "Requirement already satisfied: typing-extensions in /usr/local/lib/python3.10/dist-packages (from lightning-utilities==0.11.2->-r requirements.txt (line 8)) (4.12.2)\n",
            "Requirement already satisfied: sympy in /usr/local/lib/python3.10/dist-packages (from torch==2.3.0+cu121->-r requirements.txt (line 13)) (1.12.1)\n",
            "Requirement already satisfied: networkx in /usr/local/lib/python3.10/dist-packages (from torch==2.3.0+cu121->-r requirements.txt (line 13)) (3.3)\n",
            "Requirement already satisfied: jinja2 in /usr/local/lib/python3.10/dist-packages (from torch==2.3.0+cu121->-r requirements.txt (line 13)) (3.1.4)\n",
            "Requirement already satisfied: nvidia-cuda-nvrtc-cu12==12.1.105 in /usr/local/lib/python3.10/dist-packages (from torch==2.3.0+cu121->-r requirements.txt (line 13)) (12.1.105)\n",
            "Requirement already satisfied: nvidia-cuda-runtime-cu12==12.1.105 in /usr/local/lib/python3.10/dist-packages (from torch==2.3.0+cu121->-r requirements.txt (line 13)) (12.1.105)\n",
            "Requirement already satisfied: nvidia-cuda-cupti-cu12==12.1.105 in /usr/local/lib/python3.10/dist-packages (from torch==2.3.0+cu121->-r requirements.txt (line 13)) (12.1.105)\n",
            "Requirement already satisfied: nvidia-cudnn-cu12==8.9.2.26 in /usr/local/lib/python3.10/dist-packages (from torch==2.3.0+cu121->-r requirements.txt (line 13)) (8.9.2.26)\n",
            "Requirement already satisfied: nvidia-cublas-cu12==12.1.3.1 in /usr/local/lib/python3.10/dist-packages (from torch==2.3.0+cu121->-r requirements.txt (line 13)) (12.1.3.1)\n",
            "Requirement already satisfied: nvidia-cufft-cu12==11.0.2.54 in /usr/local/lib/python3.10/dist-packages (from torch==2.3.0+cu121->-r requirements.txt (line 13)) (11.0.2.54)\n",
            "Requirement already satisfied: nvidia-curand-cu12==10.3.2.106 in /usr/local/lib/python3.10/dist-packages (from torch==2.3.0+cu121->-r requirements.txt (line 13)) (10.3.2.106)\n",
            "Requirement already satisfied: nvidia-cusolver-cu12==11.4.5.107 in /usr/local/lib/python3.10/dist-packages (from torch==2.3.0+cu121->-r requirements.txt (line 13)) (11.4.5.107)\n",
            "Requirement already satisfied: nvidia-cusparse-cu12==12.1.0.106 in /usr/local/lib/python3.10/dist-packages (from torch==2.3.0+cu121->-r requirements.txt (line 13)) (12.1.0.106)\n",
            "Requirement already satisfied: nvidia-nccl-cu12==2.20.5 in /usr/local/lib/python3.10/dist-packages (from torch==2.3.0+cu121->-r requirements.txt (line 13)) (2.20.5)\n",
            "Requirement already satisfied: nvidia-nvtx-cu12==12.1.105 in /usr/local/lib/python3.10/dist-packages (from torch==2.3.0+cu121->-r requirements.txt (line 13)) (12.1.105)\n",
            "Requirement already satisfied: triton==2.3.0 in /usr/local/lib/python3.10/dist-packages (from torch==2.3.0+cu121->-r requirements.txt (line 13)) (2.3.0)\n",
            "Requirement already satisfied: pillow!=8.3.*,>=5.3.0 in /usr/local/lib/python3.10/dist-packages (from torchvision==0.18.0+cu121->-r requirements.txt (line 17)) (9.4.0)\n",
            "Requirement already satisfied: MarkupSafe>=2.1.1 in /usr/local/lib/python3.10/dist-packages (from Werkzeug==3.0.3->-r requirements.txt (line 20)) (2.1.5)\n",
            "Requirement already satisfied: idna>=2.0 in /usr/local/lib/python3.10/dist-packages (from yarl==1.9.4->-r requirements.txt (line 22)) (3.7)\n",
            "Requirement already satisfied: multidict>=4.0 in /usr/local/lib/python3.10/dist-packages (from yarl==1.9.4->-r requirements.txt (line 22)) (6.0.5)\n",
            "Requirement already satisfied: nvidia-nvjitlink-cu12 in /usr/local/lib/python3.10/dist-packages (from nvidia-cusolver-cu12==11.4.5.107->torch==2.3.0+cu121->-r requirements.txt (line 13)) (12.5.40)\n",
            "Requirement already satisfied: aiosignal>=1.1.2 in /usr/local/lib/python3.10/dist-packages (from aiohttp->datasets==2.19.1->-r requirements.txt (line 4)) (1.3.1)\n",
            "Requirement already satisfied: attrs>=17.3.0 in /usr/local/lib/python3.10/dist-packages (from aiohttp->datasets==2.19.1->-r requirements.txt (line 4)) (23.2.0)\n",
            "Requirement already satisfied: frozenlist>=1.1.1 in /usr/local/lib/python3.10/dist-packages (from aiohttp->datasets==2.19.1->-r requirements.txt (line 4)) (1.4.1)\n",
            "Requirement already satisfied: async-timeout<5.0,>=4.0 in /usr/local/lib/python3.10/dist-packages (from aiohttp->datasets==2.19.1->-r requirements.txt (line 4)) (4.0.3)\n",
            "Requirement already satisfied: charset-normalizer<4,>=2 in /usr/local/lib/python3.10/dist-packages (from requests>=2.19.0->datasets==2.19.1->-r requirements.txt (line 4)) (3.3.2)\n",
            "Requirement already satisfied: certifi>=2017.4.17 in /usr/local/lib/python3.10/dist-packages (from requests>=2.19.0->datasets==2.19.1->-r requirements.txt (line 4)) (2024.6.2)\n",
            "Requirement already satisfied: python-dateutil>=2.8.2 in /usr/local/lib/python3.10/dist-packages (from pandas->datasets==2.19.1->-r requirements.txt (line 4)) (2.8.2)\n",
            "Requirement already satisfied: pytz>=2020.1 in /usr/local/lib/python3.10/dist-packages (from pandas->datasets==2.19.1->-r requirements.txt (line 4)) (2023.4)\n",
            "Requirement already satisfied: tzdata>=2022.1 in /usr/local/lib/python3.10/dist-packages (from pandas->datasets==2.19.1->-r requirements.txt (line 4)) (2024.1)\n",
            "Requirement already satisfied: mpmath<1.4.0,>=1.1.0 in /usr/local/lib/python3.10/dist-packages (from sympy->torch==2.3.0+cu121->-r requirements.txt (line 13)) (1.3.0)\n"
          ]
        }
      ],
      "source": [
        "!pip install -r requirements.txt"
      ]
    },
    {
      "cell_type": "code",
      "execution_count": 3,
      "metadata": {
        "id": "B325mAHNtJCB",
        "tags": [],
        "colab": {
          "base_uri": "https://localhost:8080/"
        },
        "outputId": "ce8bf7d2-ee25-49ae-b1fa-55702086f38a"
      },
      "outputs": [
        {
          "output_type": "stream",
          "name": "stdout",
          "text": [
            "Step 0: train loss 4.2757, val loss 4.2714\n",
            "Step 500: train loss 2.3856, val loss 2.4127\n",
            "Step 1000: train loss 2.0637, val loss 2.1208\n",
            "Step 1500: train loss 1.8448, val loss 1.9613\n",
            "Step 2000: train loss 1.6916, val loss 1.8546\n",
            "Step 2500: train loss 1.5915, val loss 1.7748\n",
            "Step 3000: train loss 1.5146, val loss 1.7152\n",
            "Step 3500: train loss 1.4571, val loss 1.6665\n",
            "Step 4000: train loss 1.4150, val loss 1.6313\n",
            "Step 4500: train loss 1.3756, val loss 1.5976\n",
            "100%|██████████| 5000/5000 [1:03:50<00:00,  1.31it/s]\n",
            "\n",
            "Air tribunes comming to seal thoughs me to plut,\n",
            "And noble at oritoguly right thesek,\n",
            "Is it up writther make a wold fury deed.\n",
            "\n",
            "KING RICHARD II:\n",
            "Harry, that is strought to your Duke:\n",
            "Herre wears not moving be,\n",
            "Lord them defore, abours, sir\n",
            "Than flance, patient stand me to confey's is mad\n",
            "To from gozen the coes these traity.\n",
            "\n",
            "KING HENRY VI:\n",
            "My let thee, then queen it friends whitt be Tybles,\n",
            "As I halpoung him, you father and the baste\n",
            "The once our to the word and many time,\n",
            "Undo cersmand I dead u\n"
          ]
        }
      ],
      "source": [
        "%run nanogpt.py --n_head=8 --dropout=0.1"
      ]
    }
  ],
  "metadata": {
    "colab": {
      "provenance": [],
      "gpuType": "T4"
    },
    "kernelspec": {
      "display_name": "Python 3",
      "name": "python3"
    },
    "language_info": {
      "codemirror_mode": {
        "name": "ipython",
        "version": 3
      },
      "file_extension": ".py",
      "mimetype": "text/x-python",
      "name": "python",
      "nbconvert_exporter": "python",
      "pygments_lexer": "ipython3",
      "version": "3.10.13"
    },
    "accelerator": "GPU"
  },
  "nbformat": 4,
  "nbformat_minor": 0
}