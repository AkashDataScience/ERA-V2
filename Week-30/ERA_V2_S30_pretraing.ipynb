{
 "cells": [
  {
   "cell_type": "code",
   "execution_count": null,
   "metadata": {
    "id": "C_YSfsRILGPG",
    "tags": []
   },
   "outputs": [],
   "source": [
    "!git clone https://github.com/AkashDataScience/multi_model_phi_3"
   ]
  },
  {
   "cell_type": "code",
   "execution_count": 1,
   "metadata": {
    "id": "CBVAhJBULs5R",
    "tags": []
   },
   "outputs": [
    {
     "name": "stdout",
     "output_type": "stream",
     "text": [
      "/multi_model_phi_3\n"
     ]
    },
    {
     "name": "stderr",
     "output_type": "stream",
     "text": [
      "/opt/conda/lib/python3.10/site-packages/IPython/core/magics/osm.py:417: UserWarning: using dhist requires you to install the `pickleshare` library.\n",
      "  self.shell.db['dhist'] = compress_dhist(dhist)[-100:]\n"
     ]
    }
   ],
   "source": [
    "%cd multi_model_phi_3"
   ]
  },
  {
   "cell_type": "code",
   "execution_count": 2,
   "metadata": {
    "id": "75koL8tzLxKS",
    "scrolled": true,
    "tags": []
   },
   "outputs": [
    {
     "name": "stdout",
     "output_type": "stream",
     "text": [
      "Collecting clip@ git+https://github.com/openai/CLIP.git@dcba3cb2e2827b402d2701e7e1c7d9fed8a20ef1 (from -r requirements.txt (line 1))\n",
      "  Using cached clip-1.0-py3-none-any.whl\n",
      "Requirement already satisfied: colorama==0.4.6 in /opt/conda/lib/python3.10/site-packages (from -r requirements.txt (line 2)) (0.4.6)\n",
      "Requirement already satisfied: datasets==3.0.0 in /opt/conda/lib/python3.10/site-packages (from -r requirements.txt (line 3)) (3.0.0)\n",
      "Requirement already satisfied: dill==0.3.8 in /opt/conda/lib/python3.10/site-packages (from -r requirements.txt (line 4)) (0.3.8)\n",
      "Requirement already satisfied: multiprocess==0.70.16 in /opt/conda/lib/python3.10/site-packages (from -r requirements.txt (line 5)) (0.70.16)\n",
      "Requirement already satisfied: numpy==1.26.4 in /opt/conda/lib/python3.10/site-packages (from -r requirements.txt (line 6)) (1.26.4)\n",
      "Requirement already satisfied: pandas==2.2.2 in /opt/conda/lib/python3.10/site-packages (from -r requirements.txt (line 7)) (2.2.2)\n",
      "Requirement already satisfied: peft==0.12.0 in /opt/conda/lib/python3.10/site-packages (from -r requirements.txt (line 8)) (0.12.0)\n",
      "Requirement already satisfied: shtab==1.7.1 in /opt/conda/lib/python3.10/site-packages (from -r requirements.txt (line 9)) (1.7.1)\n",
      "Requirement already satisfied: tokenizers==0.19.1 in /opt/conda/lib/python3.10/site-packages (from -r requirements.txt (line 10)) (0.19.1)\n",
      "Requirement already satisfied: torch==2.4.1 in /opt/conda/lib/python3.10/site-packages (from -r requirements.txt (line 11)) (2.4.1)\n",
      "Requirement already satisfied: torchvision==0.19.1 in /opt/conda/lib/python3.10/site-packages (from -r requirements.txt (line 12)) (0.19.1)\n",
      "Requirement already satisfied: tqdm==4.66.5 in /opt/conda/lib/python3.10/site-packages (from -r requirements.txt (line 13)) (4.66.5)\n",
      "Requirement already satisfied: transformers==4.44.2 in /opt/conda/lib/python3.10/site-packages (from -r requirements.txt (line 14)) (4.44.2)\n",
      "Requirement already satisfied: treelib==1.7.0 in /opt/conda/lib/python3.10/site-packages (from -r requirements.txt (line 15)) (1.7.0)\n",
      "Requirement already satisfied: trl==0.10.1 in /opt/conda/lib/python3.10/site-packages (from -r requirements.txt (line 16)) (0.10.1)\n",
      "Requirement already satisfied: typing_extensions==4.12.2 in /opt/conda/lib/python3.10/site-packages (from -r requirements.txt (line 17)) (4.12.2)\n",
      "Requirement already satisfied: tyro==0.8.10 in /opt/conda/lib/python3.10/site-packages (from -r requirements.txt (line 18)) (0.8.10)\n",
      "Requirement already satisfied: tzdata==2024.1 in /opt/conda/lib/python3.10/site-packages (from -r requirements.txt (line 19)) (2024.1)\n",
      "Requirement already satisfied: urllib3==2.2.3 in /opt/conda/lib/python3.10/site-packages (from -r requirements.txt (line 20)) (2.2.3)\n",
      "Requirement already satisfied: wcwidth==0.2.13 in /opt/conda/lib/python3.10/site-packages (from -r requirements.txt (line 21)) (0.2.13)\n",
      "Requirement already satisfied: xxhash==3.5.0 in /opt/conda/lib/python3.10/site-packages (from -r requirements.txt (line 22)) (3.5.0)\n",
      "Requirement already satisfied: yarl==1.11.1 in /opt/conda/lib/python3.10/site-packages (from -r requirements.txt (line 23)) (1.11.1)\n",
      "Requirement already satisfied: filelock in /opt/conda/lib/python3.10/site-packages (from datasets==3.0.0->-r requirements.txt (line 3)) (3.13.1)\n",
      "Requirement already satisfied: pyarrow>=15.0.0 in /opt/conda/lib/python3.10/site-packages (from datasets==3.0.0->-r requirements.txt (line 3)) (17.0.0)\n",
      "Requirement already satisfied: requests>=2.32.2 in /opt/conda/lib/python3.10/site-packages (from datasets==3.0.0->-r requirements.txt (line 3)) (2.32.3)\n",
      "Requirement already satisfied: fsspec<=2024.6.1,>=2023.1.0 in /opt/conda/lib/python3.10/site-packages (from fsspec[http]<=2024.6.1,>=2023.1.0->datasets==3.0.0->-r requirements.txt (line 3)) (2024.2.0)\n",
      "Requirement already satisfied: aiohttp in /opt/conda/lib/python3.10/site-packages (from datasets==3.0.0->-r requirements.txt (line 3)) (3.10.5)\n",
      "Requirement already satisfied: huggingface-hub>=0.22.0 in /opt/conda/lib/python3.10/site-packages (from datasets==3.0.0->-r requirements.txt (line 3)) (0.25.1)\n",
      "Requirement already satisfied: packaging in /opt/conda/lib/python3.10/site-packages (from datasets==3.0.0->-r requirements.txt (line 3)) (23.1)\n",
      "Requirement already satisfied: pyyaml>=5.1 in /opt/conda/lib/python3.10/site-packages (from datasets==3.0.0->-r requirements.txt (line 3)) (6.0.1)\n",
      "Requirement already satisfied: python-dateutil>=2.8.2 in /opt/conda/lib/python3.10/site-packages (from pandas==2.2.2->-r requirements.txt (line 7)) (2.9.0.post0)\n",
      "Requirement already satisfied: pytz>=2020.1 in /opt/conda/lib/python3.10/site-packages (from pandas==2.2.2->-r requirements.txt (line 7)) (2023.3.post1)\n",
      "Requirement already satisfied: psutil in /opt/conda/lib/python3.10/site-packages (from peft==0.12.0->-r requirements.txt (line 8)) (5.9.0)\n",
      "Requirement already satisfied: accelerate>=0.21.0 in /opt/conda/lib/python3.10/site-packages (from peft==0.12.0->-r requirements.txt (line 8)) (0.34.2)\n",
      "Requirement already satisfied: safetensors in /opt/conda/lib/python3.10/site-packages (from peft==0.12.0->-r requirements.txt (line 8)) (0.4.5)\n",
      "Requirement already satisfied: sympy in /opt/conda/lib/python3.10/site-packages (from torch==2.4.1->-r requirements.txt (line 11)) (1.12)\n",
      "Requirement already satisfied: networkx in /opt/conda/lib/python3.10/site-packages (from torch==2.4.1->-r requirements.txt (line 11)) (3.1)\n",
      "Requirement already satisfied: jinja2 in /opt/conda/lib/python3.10/site-packages (from torch==2.4.1->-r requirements.txt (line 11)) (3.1.3)\n",
      "Requirement already satisfied: nvidia-cuda-nvrtc-cu12==12.1.105 in /opt/conda/lib/python3.10/site-packages (from torch==2.4.1->-r requirements.txt (line 11)) (12.1.105)\n",
      "Requirement already satisfied: nvidia-cuda-runtime-cu12==12.1.105 in /opt/conda/lib/python3.10/site-packages (from torch==2.4.1->-r requirements.txt (line 11)) (12.1.105)\n",
      "Requirement already satisfied: nvidia-cuda-cupti-cu12==12.1.105 in /opt/conda/lib/python3.10/site-packages (from torch==2.4.1->-r requirements.txt (line 11)) (12.1.105)\n",
      "Requirement already satisfied: nvidia-cudnn-cu12==9.1.0.70 in /opt/conda/lib/python3.10/site-packages (from torch==2.4.1->-r requirements.txt (line 11)) (9.1.0.70)\n",
      "Requirement already satisfied: nvidia-cublas-cu12==12.1.3.1 in /opt/conda/lib/python3.10/site-packages (from torch==2.4.1->-r requirements.txt (line 11)) (12.1.3.1)\n",
      "Requirement already satisfied: nvidia-cufft-cu12==11.0.2.54 in /opt/conda/lib/python3.10/site-packages (from torch==2.4.1->-r requirements.txt (line 11)) (11.0.2.54)\n",
      "Requirement already satisfied: nvidia-curand-cu12==10.3.2.106 in /opt/conda/lib/python3.10/site-packages (from torch==2.4.1->-r requirements.txt (line 11)) (10.3.2.106)\n",
      "Requirement already satisfied: nvidia-cusolver-cu12==11.4.5.107 in /opt/conda/lib/python3.10/site-packages (from torch==2.4.1->-r requirements.txt (line 11)) (11.4.5.107)\n",
      "Requirement already satisfied: nvidia-cusparse-cu12==12.1.0.106 in /opt/conda/lib/python3.10/site-packages (from torch==2.4.1->-r requirements.txt (line 11)) (12.1.0.106)\n",
      "Requirement already satisfied: nvidia-nccl-cu12==2.20.5 in /opt/conda/lib/python3.10/site-packages (from torch==2.4.1->-r requirements.txt (line 11)) (2.20.5)\n",
      "Requirement already satisfied: nvidia-nvtx-cu12==12.1.105 in /opt/conda/lib/python3.10/site-packages (from torch==2.4.1->-r requirements.txt (line 11)) (12.1.105)\n",
      "Requirement already satisfied: triton==3.0.0 in /opt/conda/lib/python3.10/site-packages (from torch==2.4.1->-r requirements.txt (line 11)) (3.0.0)\n",
      "Requirement already satisfied: pillow!=8.3.*,>=5.3.0 in /opt/conda/lib/python3.10/site-packages (from torchvision==0.19.1->-r requirements.txt (line 12)) (10.2.0)\n",
      "Requirement already satisfied: regex!=2019.12.17 in /opt/conda/lib/python3.10/site-packages (from transformers==4.44.2->-r requirements.txt (line 14)) (2024.9.11)\n",
      "Requirement already satisfied: six in /opt/conda/lib/python3.10/site-packages (from treelib==1.7.0->-r requirements.txt (line 15)) (1.16.0)\n",
      "Requirement already satisfied: docstring-parser>=0.16 in /opt/conda/lib/python3.10/site-packages (from tyro==0.8.10->-r requirements.txt (line 18)) (0.16)\n",
      "Requirement already satisfied: rich>=11.1.0 in /opt/conda/lib/python3.10/site-packages (from tyro==0.8.10->-r requirements.txt (line 18)) (13.9.1)\n",
      "Requirement already satisfied: idna>=2.0 in /opt/conda/lib/python3.10/site-packages (from yarl==1.11.1->-r requirements.txt (line 23)) (3.4)\n",
      "Requirement already satisfied: multidict>=4.0 in /opt/conda/lib/python3.10/site-packages (from yarl==1.11.1->-r requirements.txt (line 23)) (6.1.0)\n",
      "Requirement already satisfied: nvidia-nvjitlink-cu12 in /opt/conda/lib/python3.10/site-packages (from nvidia-cusolver-cu12==11.4.5.107->torch==2.4.1->-r requirements.txt (line 11)) (12.6.77)\n",
      "Requirement already satisfied: ftfy in /opt/conda/lib/python3.10/site-packages (from clip@ git+https://github.com/openai/CLIP.git@dcba3cb2e2827b402d2701e7e1c7d9fed8a20ef1->-r requirements.txt (line 1)) (6.2.3)\n",
      "Requirement already satisfied: aiohappyeyeballs>=2.3.0 in /opt/conda/lib/python3.10/site-packages (from aiohttp->datasets==3.0.0->-r requirements.txt (line 3)) (2.4.3)\n",
      "Requirement already satisfied: aiosignal>=1.1.2 in /opt/conda/lib/python3.10/site-packages (from aiohttp->datasets==3.0.0->-r requirements.txt (line 3)) (1.3.1)\n",
      "Requirement already satisfied: attrs>=17.3.0 in /opt/conda/lib/python3.10/site-packages (from aiohttp->datasets==3.0.0->-r requirements.txt (line 3)) (23.1.0)\n",
      "Requirement already satisfied: frozenlist>=1.1.1 in /opt/conda/lib/python3.10/site-packages (from aiohttp->datasets==3.0.0->-r requirements.txt (line 3)) (1.4.1)\n",
      "Requirement already satisfied: async-timeout<5.0,>=4.0 in /opt/conda/lib/python3.10/site-packages (from aiohttp->datasets==3.0.0->-r requirements.txt (line 3)) (4.0.3)\n",
      "Requirement already satisfied: charset-normalizer<4,>=2 in /opt/conda/lib/python3.10/site-packages (from requests>=2.32.2->datasets==3.0.0->-r requirements.txt (line 3)) (2.0.4)\n",
      "Requirement already satisfied: certifi>=2017.4.17 in /opt/conda/lib/python3.10/site-packages (from requests>=2.32.2->datasets==3.0.0->-r requirements.txt (line 3)) (2024.2.2)\n",
      "Requirement already satisfied: markdown-it-py>=2.2.0 in /opt/conda/lib/python3.10/site-packages (from rich>=11.1.0->tyro==0.8.10->-r requirements.txt (line 18)) (3.0.0)\n",
      "Requirement already satisfied: pygments<3.0.0,>=2.13.0 in /opt/conda/lib/python3.10/site-packages (from rich>=11.1.0->tyro==0.8.10->-r requirements.txt (line 18)) (2.15.1)\n",
      "Requirement already satisfied: MarkupSafe>=2.0 in /opt/conda/lib/python3.10/site-packages (from jinja2->torch==2.4.1->-r requirements.txt (line 11)) (2.1.3)\n",
      "Requirement already satisfied: mpmath>=0.19 in /opt/conda/lib/python3.10/site-packages (from sympy->torch==2.4.1->-r requirements.txt (line 11)) (1.3.0)\n",
      "Requirement already satisfied: mdurl~=0.1 in /opt/conda/lib/python3.10/site-packages (from markdown-it-py>=2.2.0->rich>=11.1.0->tyro==0.8.10->-r requirements.txt (line 18)) (0.1.2)\n",
      "\u001b[33mWARNING: Running pip as the 'root' user can result in broken permissions and conflicting behaviour with the system package manager. It is recommended to use a virtual environment instead: https://pip.pypa.io/warnings/venv\u001b[0m\u001b[33m\n",
      "\u001b[0m"
     ]
    }
   ],
   "source": [
    "!pip install -r requirements.txt"
   ]
  },
  {
   "cell_type": "code",
   "execution_count": 3,
   "metadata": {
    "id": "QauI2fQjWWTg"
   },
   "outputs": [
    {
     "name": "stdout",
     "output_type": "stream",
     "text": [
      "/multi_model_phi_3/image_finetuning/pretraining\n"
     ]
    }
   ],
   "source": [
    "%cd image_finetuning/pretraining"
   ]
  },
  {
   "cell_type": "code",
   "execution_count": 4,
   "metadata": {
    "id": "koXJ8mCciYYn"
   },
   "outputs": [
    {
     "name": "stdout",
     "output_type": "stream",
     "text": [
      "--2024-10-03 15:52:57--  https://huggingface.co/datasets/liuhaotian/LLaVA-Instruct-150K/resolve/main/llava_instruct_150k.json\n",
      "Resolving huggingface.co (huggingface.co)... 143.204.55.121, 143.204.55.75, 143.204.55.124, ...\n",
      "Connecting to huggingface.co (huggingface.co)|143.204.55.121|:443... connected.\n",
      "HTTP request sent, awaiting response... 302 Found\n",
      "Location: https://cdn-lfs.hf.co/repos/4d/41/4d41ea1e2709f0e68e9e361e4218192b9620c5a3f2cb8055bc625942b6cd3039/6b68bc5ca2bfd8a71119af0e8454929668ccda6a334955ccc95d114fc8d082fa?response-content-disposition=inline%3B+filename*%3DUTF-8%27%27llava_instruct_150k.json%3B+filename%3D%22llava_instruct_150k.json%22%3B&response-content-type=application%2Fjson&Expires=1728229977&Policy=eyJTdGF0ZW1lbnQiOlt7IkNvbmRpdGlvbiI6eyJEYXRlTGVzc1RoYW4iOnsiQVdTOkVwb2NoVGltZSI6MTcyODIyOTk3N319LCJSZXNvdXJjZSI6Imh0dHBzOi8vY2RuLWxmcy5oZi5jby9yZXBvcy80ZC80MS80ZDQxZWExZTI3MDlmMGU2OGU5ZTM2MWU0MjE4MTkyYjk2MjBjNWEzZjJjYjgwNTViYzYyNTk0MmI2Y2QzMDM5LzZiNjhiYzVjYTJiZmQ4YTcxMTE5YWYwZTg0NTQ5Mjk2NjhjY2RhNmEzMzQ5NTVjY2M5NWQxMTRmYzhkMDgyZmE%7EcmVzcG9uc2UtY29udGVudC1kaXNwb3NpdGlvbj0qJnJlc3BvbnNlLWNvbnRlbnQtdHlwZT0qIn1dfQ__&Signature=GwclkvCkpxc4WX6amshXsO6UMjJ8BoWxLl2FoD7I-FV0u0mSuCDsPCfKWTUX4qLGTGeYZWKHY2vfMeNPghB2mfFassGaxPwwe8Kvtz9eIE31MrR1xpejMlxWPqgLjMdz0ibmpJRuAfLYua32O6vlsCnfBBBaBxw8QGUBTIuJiHAb8grlDxbJ2ovOsDVu6JO3mzqPHkyYMLZ-JrOOulsVRok1rn8g7lrLi-p7eOwA9kc%7EMFV0Tl-9FkRjoZLIvFg2GFdVsZtbXDbnUPpF7rB%7EKpFh5LSRsa1M7o8YMcL8mdw6WL2Z3bXAccdZhgPF4m6Nhn5g-3G80b7Qymu6L-DhMA__&Key-Pair-Id=K3RPWS32NSSJCE [following]\n",
      "--2024-10-03 15:52:57--  https://cdn-lfs.hf.co/repos/4d/41/4d41ea1e2709f0e68e9e361e4218192b9620c5a3f2cb8055bc625942b6cd3039/6b68bc5ca2bfd8a71119af0e8454929668ccda6a334955ccc95d114fc8d082fa?response-content-disposition=inline%3B+filename*%3DUTF-8%27%27llava_instruct_150k.json%3B+filename%3D%22llava_instruct_150k.json%22%3B&response-content-type=application%2Fjson&Expires=1728229977&Policy=eyJTdGF0ZW1lbnQiOlt7IkNvbmRpdGlvbiI6eyJEYXRlTGVzc1RoYW4iOnsiQVdTOkVwb2NoVGltZSI6MTcyODIyOTk3N319LCJSZXNvdXJjZSI6Imh0dHBzOi8vY2RuLWxmcy5oZi5jby9yZXBvcy80ZC80MS80ZDQxZWExZTI3MDlmMGU2OGU5ZTM2MWU0MjE4MTkyYjk2MjBjNWEzZjJjYjgwNTViYzYyNTk0MmI2Y2QzMDM5LzZiNjhiYzVjYTJiZmQ4YTcxMTE5YWYwZTg0NTQ5Mjk2NjhjY2RhNmEzMzQ5NTVjY2M5NWQxMTRmYzhkMDgyZmE%7EcmVzcG9uc2UtY29udGVudC1kaXNwb3NpdGlvbj0qJnJlc3BvbnNlLWNvbnRlbnQtdHlwZT0qIn1dfQ__&Signature=GwclkvCkpxc4WX6amshXsO6UMjJ8BoWxLl2FoD7I-FV0u0mSuCDsPCfKWTUX4qLGTGeYZWKHY2vfMeNPghB2mfFassGaxPwwe8Kvtz9eIE31MrR1xpejMlxWPqgLjMdz0ibmpJRuAfLYua32O6vlsCnfBBBaBxw8QGUBTIuJiHAb8grlDxbJ2ovOsDVu6JO3mzqPHkyYMLZ-JrOOulsVRok1rn8g7lrLi-p7eOwA9kc%7EMFV0Tl-9FkRjoZLIvFg2GFdVsZtbXDbnUPpF7rB%7EKpFh5LSRsa1M7o8YMcL8mdw6WL2Z3bXAccdZhgPF4m6Nhn5g-3G80b7Qymu6L-DhMA__&Key-Pair-Id=K3RPWS32NSSJCE\n",
      "Resolving cdn-lfs.hf.co (cdn-lfs.hf.co)... 54.240.174.81, 54.240.174.42, 54.240.174.82, ...\n",
      "Connecting to cdn-lfs.hf.co (cdn-lfs.hf.co)|54.240.174.81|:443... connected.\n",
      "HTTP request sent, awaiting response... 416 Requested Range Not Satisfiable\n",
      "\n",
      "    The file is already fully retrieved; nothing to do.\n",
      "\n"
     ]
    }
   ],
   "source": [
    "!wget -c https://huggingface.co/datasets/liuhaotian/LLaVA-Instruct-150K/resolve/main/llava_instruct_150k.json"
   ]
  },
  {
   "cell_type": "code",
   "execution_count": 5,
   "metadata": {
    "id": "B325mAHNtJCB",
    "tags": []
   },
   "outputs": [
    {
     "name": "stderr",
     "output_type": "stream",
     "text": [
      "`flash-attention` package not found, consider installing for better performance: No module named 'flash_attn'.\n",
      "Current `flash-attention` does not support `window_size`. Either upgrade or use `attn_implementation='eager'`.\n"
     ]
    },
    {
     "data": {
      "application/vnd.jupyter.widget-view+json": {
       "model_id": "a991c5e00cfe46888f2569fc55941256",
       "version_major": 2,
       "version_minor": 0
      },
      "text/plain": [
       "Loading checkpoint shards:   0%|          | 0/2 [00:00<?, ?it/s]"
      ]
     },
     "metadata": {},
     "output_type": "display_data"
    },
    {
     "name": "stderr",
     "output_type": "stream",
     "text": [
      "/multi_model_phi_3/image_finetuning/pretraining/model.py:47: FutureWarning: You are using `torch.load` with `weights_only=False` (the current default value), which uses the default pickle module implicitly. It is possible to construct malicious pickle data which will execute arbitrary code during unpickling (See https://github.com/pytorch/pytorch/blob/main/SECURITY.md#untrusted-models for more details). In a future release, the default value for `weights_only` will be flipped to `True`. This limits the functions that could be executed during unpickling. Arbitrary objects will no longer be allowed to be loaded via this mode unless they are explicitly allowlisted by the user via `torch.serialization.add_safe_globals`. We recommend you start setting `weights_only=True` for any use case where you don't have full control of the loaded file. Please open an issue on GitHub for any issues related to this experimental feature.\n",
      "  self.image_embeddings = torch.load('clip_embeddings.pt')\n"
     ]
    },
    {
     "name": "stdout",
     "output_type": "stream",
     "text": [
      "Epoch 1/3\n",
      "  0%|          | 0/9857 [00:00<?, ?it/s]"
     ]
    },
    {
     "name": "stderr",
     "output_type": "stream",
     "text": [
      "You are not running the flash-attention implementation, expect numerical differences.\n"
     ]
    },
    {
     "name": "stdout",
     "output_type": "stream",
     "text": [
      "Loss: 6.5470 Batch_id=9856: 100%|██████████| 9857/9857 [1:49:31<00:00,  1.50it/s]\n",
      "Epoch 2/3\n",
      "Loss: 6.3709 Batch_id=9856: 100%|██████████| 9857/9857 [1:49:33<00:00,  1.50it/s]\n",
      "Epoch 3/3\n",
      "Loss: 6.3691 Batch_id=9856: 100%|██████████| 9857/9857 [1:49:31<00:00,  1.50it/s]\n",
      "Training completed and model saved.\n"
     ]
    }
   ],
   "source": [
    "%run main.py"
   ]
  }
 ],
 "metadata": {
  "accelerator": "GPU",
  "colab": {
   "gpuType": "T4",
   "provenance": []
  },
  "kernelspec": {
   "display_name": "Python 3 (ipykernel)",
   "language": "python",
   "name": "python3"
  },
  "language_info": {
   "codemirror_mode": {
    "name": "ipython",
    "version": 3
   },
   "file_extension": ".py",
   "mimetype": "text/x-python",
   "name": "python",
   "nbconvert_exporter": "python",
   "pygments_lexer": "ipython3",
   "version": "3.10.13"
  }
 },
 "nbformat": 4,
 "nbformat_minor": 4
}
