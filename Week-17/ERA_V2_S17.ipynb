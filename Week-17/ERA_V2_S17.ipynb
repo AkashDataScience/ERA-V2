{
 "cells": [
  {
   "cell_type": "code",
   "execution_count": 1,
   "metadata": {
    "colab": {
     "base_uri": "https://localhost:8080/"
    },
    "executionInfo": {
     "elapsed": 666,
     "status": "ok",
     "timestamp": 1716716570354,
     "user": {
      "displayName": "Shah Akash",
      "userId": "06197915452538287747"
     },
     "user_tz": -330
    },
    "id": "C_YSfsRILGPG",
    "outputId": "eed01d30-6ba3-46d9-ed5f-b6d2a1f09be8",
    "tags": []
   },
   "outputs": [
    {
     "name": "stdout",
     "output_type": "stream",
     "text": [
      "Cloning into 'language_translation'...\n",
      "remote: Enumerating objects: 22, done.\u001b[K\n",
      "remote: Counting objects: 100% (22/22), done.\u001b[K\n",
      "remote: Compressing objects: 100% (17/17), done.\u001b[K\n",
      "remote: Total 22 (delta 10), reused 17 (delta 5), pack-reused 0\u001b[K\n",
      "Unpacking objects: 100% (22/22), 8.22 KiB | 2.05 MiB/s, done.\n"
     ]
    }
   ],
   "source": [
    "!git clone https://github.com/AkashDataScience/language_translation.git"
   ]
  },
  {
   "cell_type": "code",
   "execution_count": 2,
   "metadata": {
    "colab": {
     "base_uri": "https://localhost:8080/"
    },
    "executionInfo": {
     "elapsed": 7,
     "status": "ok",
     "timestamp": 1716716572000,
     "user": {
      "displayName": "Shah Akash",
      "userId": "06197915452538287747"
     },
     "user_tz": -330
    },
    "id": "CBVAhJBULs5R",
    "outputId": "9996b051-6772-4aac-e27c-6085ec777034",
    "tags": []
   },
   "outputs": [
    {
     "name": "stdout",
     "output_type": "stream",
     "text": [
      "/home/studio-lab-user/sagemaker-studiolab-notebooks/language_translation\n"
     ]
    }
   ],
   "source": [
    "%cd language_translation"
   ]
  },
  {
   "cell_type": "code",
   "execution_count": 3,
   "metadata": {
    "colab": {
     "base_uri": "https://localhost:8080/"
    },
    "executionInfo": {
     "elapsed": 6711,
     "status": "ok",
     "timestamp": 1716716580648,
     "user": {
      "displayName": "Shah Akash",
      "userId": "06197915452538287747"
     },
     "user_tz": -330
    },
    "id": "75koL8tzLxKS",
    "outputId": "b2b1790b-3759-4e08-8bcb-4989508ccf24",
    "tags": []
   },
   "outputs": [
    {
     "name": "stdout",
     "output_type": "stream",
     "text": [
      "Requirement already satisfied: aiohttp==3.9.5 in /home/studio-lab-user/.conda/envs/default/lib/python3.9/site-packages (from -r requirements.txt (line 1)) (3.9.5)\n",
      "Requirement already satisfied: aiosignal==1.3.1 in /home/studio-lab-user/.conda/envs/default/lib/python3.9/site-packages (from -r requirements.txt (line 2)) (1.3.1)\n",
      "Requirement already satisfied: attrs==23.2.0 in /home/studio-lab-user/.conda/envs/default/lib/python3.9/site-packages (from -r requirements.txt (line 3)) (23.2.0)\n",
      "Requirement already satisfied: certifi==2024.2.2 in /home/studio-lab-user/.conda/envs/default/lib/python3.9/site-packages (from -r requirements.txt (line 4)) (2024.2.2)\n",
      "Requirement already satisfied: charset-normalizer==3.3.2 in /home/studio-lab-user/.conda/envs/default/lib/python3.9/site-packages (from -r requirements.txt (line 5)) (3.3.2)\n",
      "Requirement already satisfied: colorama==0.4.6 in /home/studio-lab-user/.conda/envs/default/lib/python3.9/site-packages (from -r requirements.txt (line 6)) (0.4.6)\n",
      "Requirement already satisfied: datasets==2.19.1 in /home/studio-lab-user/.conda/envs/default/lib/python3.9/site-packages (from -r requirements.txt (line 7)) (2.19.1)\n",
      "Requirement already satisfied: dill==0.3.8 in /home/studio-lab-user/.conda/envs/default/lib/python3.9/site-packages (from -r requirements.txt (line 8)) (0.3.8)\n",
      "Requirement already satisfied: filelock==3.13.1 in /home/studio-lab-user/.conda/envs/default/lib/python3.9/site-packages (from -r requirements.txt (line 9)) (3.13.1)\n",
      "Requirement already satisfied: frozenlist==1.4.1 in /home/studio-lab-user/.conda/envs/default/lib/python3.9/site-packages (from -r requirements.txt (line 10)) (1.4.1)\n",
      "Requirement already satisfied: fsspec==2024.2.0 in /home/studio-lab-user/.conda/envs/default/lib/python3.9/site-packages (from -r requirements.txt (line 11)) (2024.2.0)\n",
      "Requirement already satisfied: huggingface-hub==0.23.1 in /home/studio-lab-user/.conda/envs/default/lib/python3.9/site-packages (from -r requirements.txt (line 12)) (0.23.1)\n",
      "Requirement already satisfied: idna==3.7 in /home/studio-lab-user/.conda/envs/default/lib/python3.9/site-packages (from -r requirements.txt (line 13)) (3.7)\n",
      "Requirement already satisfied: intel-openmp==2021.4.0 in /home/studio-lab-user/.conda/envs/default/lib/python3.9/site-packages (from -r requirements.txt (line 14)) (2021.4.0)\n",
      "Requirement already satisfied: Jinja2==3.1.3 in /home/studio-lab-user/.conda/envs/default/lib/python3.9/site-packages (from -r requirements.txt (line 15)) (3.1.3)\n",
      "Requirement already satisfied: lightning-utilities==0.11.2 in /home/studio-lab-user/.conda/envs/default/lib/python3.9/site-packages (from -r requirements.txt (line 16)) (0.11.2)\n",
      "Requirement already satisfied: MarkupSafe==2.1.5 in /home/studio-lab-user/.conda/envs/default/lib/python3.9/site-packages (from -r requirements.txt (line 17)) (2.1.5)\n",
      "Requirement already satisfied: mkl==2021.4.0 in /home/studio-lab-user/.conda/envs/default/lib/python3.9/site-packages (from -r requirements.txt (line 18)) (2021.4.0)\n",
      "Requirement already satisfied: mpmath==1.3.0 in /home/studio-lab-user/.conda/envs/default/lib/python3.9/site-packages (from -r requirements.txt (line 19)) (1.3.0)\n",
      "Requirement already satisfied: multidict==6.0.5 in /home/studio-lab-user/.conda/envs/default/lib/python3.9/site-packages (from -r requirements.txt (line 20)) (6.0.5)\n",
      "Requirement already satisfied: multiprocess==0.70.16 in /home/studio-lab-user/.conda/envs/default/lib/python3.9/site-packages (from -r requirements.txt (line 21)) (0.70.16)\n",
      "Requirement already satisfied: networkx==3.2.1 in /home/studio-lab-user/.conda/envs/default/lib/python3.9/site-packages (from -r requirements.txt (line 22)) (3.2.1)\n",
      "Requirement already satisfied: numpy==1.23.4 in /home/studio-lab-user/.conda/envs/default/lib/python3.9/site-packages (from -r requirements.txt (line 23)) (1.23.4)\n",
      "Requirement already satisfied: packaging==24.0 in /home/studio-lab-user/.conda/envs/default/lib/python3.9/site-packages (from -r requirements.txt (line 24)) (24.0)\n",
      "Requirement already satisfied: pandas==2.2.2 in /home/studio-lab-user/.conda/envs/default/lib/python3.9/site-packages (from -r requirements.txt (line 25)) (2.2.2)\n",
      "Requirement already satisfied: pillow==10.2.0 in /home/studio-lab-user/.conda/envs/default/lib/python3.9/site-packages (from -r requirements.txt (line 26)) (10.2.0)\n",
      "Collecting protobuf==3.20\n",
      "  Downloading protobuf-3.20.0-cp39-cp39-manylinux_2_5_x86_64.manylinux1_x86_64.whl (1.0 MB)\n",
      "\u001b[K     |████████████████████████████████| 1.0 MB 5.4 MB/s eta 0:00:01\n",
      "\u001b[?25hRequirement already satisfied: pyarrow==16.1.0 in /home/studio-lab-user/.conda/envs/default/lib/python3.9/site-packages (from -r requirements.txt (line 28)) (16.1.0)\n",
      "Requirement already satisfied: pyarrow-hotfix==0.6 in /home/studio-lab-user/.conda/envs/default/lib/python3.9/site-packages (from -r requirements.txt (line 29)) (0.6)\n",
      "Requirement already satisfied: python-dateutil==2.9.0.post0 in /home/studio-lab-user/.conda/envs/default/lib/python3.9/site-packages (from -r requirements.txt (line 30)) (2.9.0.post0)\n",
      "Requirement already satisfied: pytz==2024.1 in /home/studio-lab-user/.conda/envs/default/lib/python3.9/site-packages (from -r requirements.txt (line 31)) (2024.1)\n",
      "Requirement already satisfied: PyYAML==6.0.1 in /home/studio-lab-user/.conda/envs/default/lib/python3.9/site-packages (from -r requirements.txt (line 32)) (6.0.1)\n",
      "Requirement already satisfied: requests==2.32.2 in /home/studio-lab-user/.conda/envs/default/lib/python3.9/site-packages (from -r requirements.txt (line 33)) (2.32.2)\n",
      "Requirement already satisfied: setuptools==70.0.0 in /home/studio-lab-user/.conda/envs/default/lib/python3.9/site-packages (from -r requirements.txt (line 34)) (70.0.0)\n",
      "Requirement already satisfied: six==1.16.0 in /home/studio-lab-user/.conda/envs/default/lib/python3.9/site-packages (from -r requirements.txt (line 35)) (1.16.0)\n",
      "Requirement already satisfied: sympy==1.12 in /home/studio-lab-user/.conda/envs/default/lib/python3.9/site-packages (from -r requirements.txt (line 36)) (1.12)\n",
      "Requirement already satisfied: tbb==2021.11.0 in /home/studio-lab-user/.conda/envs/default/lib/python3.9/site-packages (from -r requirements.txt (line 37)) (2021.11.0)\n",
      "Requirement already satisfied: tensorboard==1.15 in /home/studio-lab-user/.conda/envs/default/lib/python3.9/site-packages (from -r requirements.txt (line 38)) (1.15.0)\n",
      "Requirement already satisfied: tokenizers==0.19.1 in /home/studio-lab-user/.conda/envs/default/lib/python3.9/site-packages (from -r requirements.txt (line 39)) (0.19.1)\n",
      "Requirement already satisfied: torch==2.3.0 in /home/studio-lab-user/.conda/envs/default/lib/python3.9/site-packages (from -r requirements.txt (line 40)) (2.3.0)\n",
      "Requirement already satisfied: torchaudio==2.3.0 in /home/studio-lab-user/.conda/envs/default/lib/python3.9/site-packages (from -r requirements.txt (line 41)) (2.3.0)\n",
      "Requirement already satisfied: torchmetrics==1.4.0.post0 in /home/studio-lab-user/.conda/envs/default/lib/python3.9/site-packages (from -r requirements.txt (line 42)) (1.4.0.post0)\n",
      "Requirement already satisfied: torchtext==0.18.0 in /home/studio-lab-user/.conda/envs/default/lib/python3.9/site-packages (from -r requirements.txt (line 43)) (0.18.0)\n",
      "Requirement already satisfied: torchvision==0.18.0 in /home/studio-lab-user/.conda/envs/default/lib/python3.9/site-packages (from -r requirements.txt (line 44)) (0.18.0)\n",
      "Requirement already satisfied: tqdm==4.66.4 in /home/studio-lab-user/.conda/envs/default/lib/python3.9/site-packages (from -r requirements.txt (line 45)) (4.66.4)\n",
      "Requirement already satisfied: typing_extensions==4.9.0 in /home/studio-lab-user/.conda/envs/default/lib/python3.9/site-packages (from -r requirements.txt (line 46)) (4.9.0)\n",
      "Requirement already satisfied: tzdata==2024.1 in /home/studio-lab-user/.conda/envs/default/lib/python3.9/site-packages (from -r requirements.txt (line 47)) (2024.1)\n",
      "Requirement already satisfied: urllib3==2.2.1 in /home/studio-lab-user/.conda/envs/default/lib/python3.9/site-packages (from -r requirements.txt (line 48)) (2.2.1)\n",
      "Requirement already satisfied: xxhash==3.4.1 in /home/studio-lab-user/.conda/envs/default/lib/python3.9/site-packages (from -r requirements.txt (line 49)) (3.4.1)\n",
      "Requirement already satisfied: yarl==1.9.4 in /home/studio-lab-user/.conda/envs/default/lib/python3.9/site-packages (from -r requirements.txt (line 50)) (1.9.4)\n",
      "Requirement already satisfied: async-timeout<5.0,>=4.0 in /home/studio-lab-user/.conda/envs/default/lib/python3.9/site-packages (from aiohttp==3.9.5->-r requirements.txt (line 1)) (4.0.3)\n",
      "Requirement already satisfied: markdown>=2.6.8 in /home/studio-lab-user/.conda/envs/default/lib/python3.9/site-packages (from tensorboard==1.15->-r requirements.txt (line 38)) (3.6)\n",
      "Requirement already satisfied: werkzeug>=0.11.15 in /home/studio-lab-user/.conda/envs/default/lib/python3.9/site-packages (from tensorboard==1.15->-r requirements.txt (line 38)) (3.0.3)\n",
      "Requirement already satisfied: absl-py>=0.4 in /home/studio-lab-user/.conda/envs/default/lib/python3.9/site-packages (from tensorboard==1.15->-r requirements.txt (line 38)) (2.1.0)\n",
      "Requirement already satisfied: wheel>=0.26 in /home/studio-lab-user/.conda/envs/default/lib/python3.9/site-packages (from tensorboard==1.15->-r requirements.txt (line 38)) (0.43.0)\n",
      "Requirement already satisfied: grpcio>=1.6.3 in /home/studio-lab-user/.conda/envs/default/lib/python3.9/site-packages (from tensorboard==1.15->-r requirements.txt (line 38)) (1.64.0)\n",
      "Requirement already satisfied: nvidia-cuda-cupti-cu12==12.1.105 in /home/studio-lab-user/.conda/envs/default/lib/python3.9/site-packages (from torch==2.3.0->-r requirements.txt (line 40)) (12.1.105)\n",
      "Requirement already satisfied: nvidia-cuda-runtime-cu12==12.1.105 in /home/studio-lab-user/.conda/envs/default/lib/python3.9/site-packages (from torch==2.3.0->-r requirements.txt (line 40)) (12.1.105)\n",
      "Requirement already satisfied: nvidia-cufft-cu12==11.0.2.54 in /home/studio-lab-user/.conda/envs/default/lib/python3.9/site-packages (from torch==2.3.0->-r requirements.txt (line 40)) (11.0.2.54)\n",
      "Requirement already satisfied: nvidia-nccl-cu12==2.20.5 in /home/studio-lab-user/.conda/envs/default/lib/python3.9/site-packages (from torch==2.3.0->-r requirements.txt (line 40)) (2.20.5)\n",
      "Requirement already satisfied: nvidia-nvtx-cu12==12.1.105 in /home/studio-lab-user/.conda/envs/default/lib/python3.9/site-packages (from torch==2.3.0->-r requirements.txt (line 40)) (12.1.105)\n",
      "Requirement already satisfied: triton==2.3.0 in /home/studio-lab-user/.conda/envs/default/lib/python3.9/site-packages (from torch==2.3.0->-r requirements.txt (line 40)) (2.3.0)\n",
      "Requirement already satisfied: nvidia-curand-cu12==10.3.2.106 in /home/studio-lab-user/.conda/envs/default/lib/python3.9/site-packages (from torch==2.3.0->-r requirements.txt (line 40)) (10.3.2.106)\n",
      "Requirement already satisfied: nvidia-cusparse-cu12==12.1.0.106 in /home/studio-lab-user/.conda/envs/default/lib/python3.9/site-packages (from torch==2.3.0->-r requirements.txt (line 40)) (12.1.0.106)\n",
      "Requirement already satisfied: nvidia-cublas-cu12==12.1.3.1 in /home/studio-lab-user/.conda/envs/default/lib/python3.9/site-packages (from torch==2.3.0->-r requirements.txt (line 40)) (12.1.3.1)\n",
      "Requirement already satisfied: nvidia-cusolver-cu12==11.4.5.107 in /home/studio-lab-user/.conda/envs/default/lib/python3.9/site-packages (from torch==2.3.0->-r requirements.txt (line 40)) (11.4.5.107)\n",
      "Requirement already satisfied: nvidia-cudnn-cu12==8.9.2.26 in /home/studio-lab-user/.conda/envs/default/lib/python3.9/site-packages (from torch==2.3.0->-r requirements.txt (line 40)) (8.9.2.26)\n",
      "Requirement already satisfied: nvidia-cuda-nvrtc-cu12==12.1.105 in /home/studio-lab-user/.conda/envs/default/lib/python3.9/site-packages (from torch==2.3.0->-r requirements.txt (line 40)) (12.1.105)\n",
      "Requirement already satisfied: nvidia-nvjitlink-cu12 in /home/studio-lab-user/.conda/envs/default/lib/python3.9/site-packages (from nvidia-cusolver-cu12==11.4.5.107->torch==2.3.0->-r requirements.txt (line 40)) (12.5.40)\n",
      "Requirement already satisfied: importlib-metadata>=4.4 in /home/studio-lab-user/.conda/envs/default/lib/python3.9/site-packages (from markdown>=2.6.8->tensorboard==1.15->-r requirements.txt (line 38)) (7.1.0)\n",
      "Requirement already satisfied: zipp>=0.5 in /home/studio-lab-user/.conda/envs/default/lib/python3.9/site-packages (from importlib-metadata>=4.4->markdown>=2.6.8->tensorboard==1.15->-r requirements.txt (line 38)) (3.17.0)\n",
      "Installing collected packages: protobuf\n",
      "  Attempting uninstall: protobuf\n",
      "    Found existing installation: protobuf 3.20.3\n",
      "    Uninstalling protobuf-3.20.3:\n",
      "      Successfully uninstalled protobuf-3.20.3\n",
      "Successfully installed protobuf-3.20.0\n"
     ]
    }
   ],
   "source": [
    "!pip install -r requirements.txt"
   ]
  },
  {
   "cell_type": "code",
   "execution_count": 5,
   "metadata": {
    "colab": {
     "base_uri": "https://localhost:8080/"
    },
    "executionInfo": {
     "elapsed": 8194,
     "status": "ok",
     "timestamp": 1716716592748,
     "user": {
      "displayName": "Shah Akash",
      "userId": "06197915452538287747"
     },
     "user_tz": -330
    },
    "id": "vQVy72PVolEH",
    "outputId": "6f236e99-8d1f-4e56-af8c-d9851f17b241",
    "tags": []
   },
   "outputs": [
    {
     "name": "stderr",
     "output_type": "stream",
     "text": [
      "/home/studio-lab-user/.conda/envs/default/lib/python3.9/site-packages/torchtext/datasets/__init__.py:4: UserWarning: \n",
      "/!\\ IMPORTANT WARNING ABOUT TORCHTEXT STATUS /!\\ \n",
      "Torchtext is deprecated and the last released version will be 0.18 (this one). You can silence this warning by calling the following at the beginnign of your scripts: `import torchtext; torchtext.disable_torchtext_deprecation_warning()`\n",
      "  warnings.warn(torchtext._TORCHTEXT_DEPRECATION_MSG)\n",
      "/home/studio-lab-user/.conda/envs/default/lib/python3.9/site-packages/torchtext/data/__init__.py:4: UserWarning: \n",
      "/!\\ IMPORTANT WARNING ABOUT TORCHTEXT STATUS /!\\ \n",
      "Torchtext is deprecated and the last released version will be 0.18 (this one). You can silence this warning by calling the following at the beginnign of your scripts: `import torchtext; torchtext.disable_torchtext_deprecation_warning()`\n",
      "  warnings.warn(torchtext._TORCHTEXT_DEPRECATION_MSG)\n"
     ]
    }
   ],
   "source": [
    "from config_file import get_config\n",
    "from train import train_model\n",
    "\n",
    "config = get_config()\n",
    "config[\"batch_size\"] = 16\n",
    "config[\"preload\"] = None\n",
    "config[\"num_epochs\"] = 10\n"
   ]
  },
  {
   "cell_type": "code",
   "execution_count": null,
   "metadata": {
    "colab": {
     "base_uri": "https://localhost:8080/"
    },
    "id": "B325mAHNtJCB",
    "outputId": "c1553925-5e0e-493c-c810-710d3b725ab9",
    "tags": []
   },
   "outputs": [
    {
     "name": "stdout",
     "output_type": "stream",
     "text": [
      "Using device : cuda\n",
      "Max length of the source sentence : 309\n",
      "Max length of the source target : 274\n",
      "0\n"
     ]
    },
    {
     "name": "stderr",
     "output_type": "stream",
     "text": [
      "Processing Epoch 00: 100%|██████████| 1819/1819 [21:41<00:00,  1.40it/s, loss=5.600]\n"
     ]
    },
    {
     "name": "stdout",
     "output_type": "stream",
     "text": [
      "1\n"
     ]
    },
    {
     "name": "stderr",
     "output_type": "stream",
     "text": [
      "Processing Epoch 01: 100%|██████████| 1819/1819 [21:41<00:00,  1.40it/s, loss=5.767]\n"
     ]
    },
    {
     "name": "stdout",
     "output_type": "stream",
     "text": [
      "2\n"
     ]
    },
    {
     "name": "stderr",
     "output_type": "stream",
     "text": [
      "Processing Epoch 02: 100%|██████████| 1819/1819 [21:41<00:00,  1.40it/s, loss=5.340]\n"
     ]
    },
    {
     "name": "stdout",
     "output_type": "stream",
     "text": [
      "3\n"
     ]
    },
    {
     "name": "stderr",
     "output_type": "stream",
     "text": [
      "Processing Epoch 03: 100%|██████████| 1819/1819 [21:41<00:00,  1.40it/s, loss=4.461]\n"
     ]
    },
    {
     "name": "stdout",
     "output_type": "stream",
     "text": [
      "4\n"
     ]
    },
    {
     "name": "stderr",
     "output_type": "stream",
     "text": [
      "Processing Epoch 04: 100%|██████████| 1819/1819 [21:41<00:00,  1.40it/s, loss=4.670]\n"
     ]
    },
    {
     "name": "stdout",
     "output_type": "stream",
     "text": [
      "5\n"
     ]
    },
    {
     "name": "stderr",
     "output_type": "stream",
     "text": [
      "Processing Epoch 05: 100%|██████████| 1819/1819 [21:43<00:00,  1.40it/s, loss=4.658]\n"
     ]
    },
    {
     "name": "stdout",
     "output_type": "stream",
     "text": [
      "6\n"
     ]
    },
    {
     "name": "stderr",
     "output_type": "stream",
     "text": [
      "Processing Epoch 06: 100%|██████████| 1819/1819 [21:45<00:00,  1.39it/s, loss=4.393]\n"
     ]
    },
    {
     "name": "stdout",
     "output_type": "stream",
     "text": [
      "7\n"
     ]
    },
    {
     "name": "stderr",
     "output_type": "stream",
     "text": [
      "Processing Epoch 07: 100%|██████████| 1819/1819 [21:44<00:00,  1.39it/s, loss=3.896]\n"
     ]
    },
    {
     "name": "stdout",
     "output_type": "stream",
     "text": [
      "8\n"
     ]
    },
    {
     "name": "stderr",
     "output_type": "stream",
     "text": [
      "Processing Epoch 08: 100%|██████████| 1819/1819 [21:46<00:00,  1.39it/s, loss=3.669]\n"
     ]
    },
    {
     "name": "stdout",
     "output_type": "stream",
     "text": [
      "9\n"
     ]
    },
    {
     "name": "stderr",
     "output_type": "stream",
     "text": [
      "Processing Epoch 09: 100%|██████████| 1819/1819 [21:48<00:00,  1.39it/s, loss=4.068]\n"
     ]
    }
   ],
   "source": [
    "train_model(config)"
   ]
  }
 ],
 "metadata": {
  "accelerator": "GPU",
  "colab": {
   "gpuType": "T4",
   "provenance": []
  },
  "kernelspec": {
   "display_name": "default:Python",
   "language": "python",
   "name": "conda-env-default-py"
  },
  "language_info": {
   "codemirror_mode": {
    "name": "ipython",
    "version": 3
   },
   "file_extension": ".py",
   "mimetype": "text/x-python",
   "name": "python",
   "nbconvert_exporter": "python",
   "pygments_lexer": "ipython3",
   "version": "3.9.19"
  }
 },
 "nbformat": 4,
 "nbformat_minor": 4
}
